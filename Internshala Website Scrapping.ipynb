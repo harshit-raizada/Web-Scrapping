{
 "cells": [
  {
   "cell_type": "code",
   "execution_count": 1,
   "id": "99440bf5",
   "metadata": {},
   "outputs": [],
   "source": [
    "# Importing libraries\n",
    "\n",
    "import pandas as pd\n",
    "import requests\n",
    "from bs4 import BeautifulSoup"
   ]
  },
  {
   "cell_type": "code",
   "execution_count": 2,
   "id": "635993f2",
   "metadata": {},
   "outputs": [],
   "source": [
    "# Requesting from server via web browser\n",
    "\n",
    "headers = {'User-Agent':'Mozilla/5.0 (Windows NT 6.3; Win 64 ; x64) Apple WeKit /537.36(KHTML , like Gecko) Chrome/80.0.3987.162 Safari/537.36'}\n",
    "webpage = requests.get('https://internshala.com/internships/work-from-home-internships/', headers = headers).text"
   ]
  },
  {
   "cell_type": "code",
   "execution_count": 3,
   "id": "ca680d39",
   "metadata": {},
   "outputs": [],
   "source": [
    "# Parse an HTML webpage\n",
    "\n",
    "soup = BeautifulSoup(webpage, 'lxml')"
   ]
  },
  {
   "cell_type": "code",
   "execution_count": 4,
   "id": "f68c6614",
   "metadata": {},
   "outputs": [
    {
     "data": {
      "text/plain": [
       "'Sampannata Enterprises Private Limited (Finclu)'"
      ]
     },
     "execution_count": 4,
     "metadata": {},
     "output_type": "execute_result"
    }
   ],
   "source": [
    "# Fetching company names\n",
    "\n",
    "soup.find_all('a', class_ = \"link_display_like_text view_detail_button\")[0].text.strip()"
   ]
  },
  {
   "cell_type": "code",
   "execution_count": 5,
   "id": "31fd655b",
   "metadata": {},
   "outputs": [],
   "source": [
    "# Fetching a whole division one by one\n",
    "\n",
    "company = soup.find_all('div', class_ = 'container-fluid individual_internship visibilityTrackerItem')"
   ]
  },
  {
   "cell_type": "code",
   "execution_count": 6,
   "id": "189fcdc9",
   "metadata": {
    "scrolled": true
   },
   "outputs": [
    {
     "data": {
      "text/plain": [
       "45"
      ]
     },
     "execution_count": 6,
     "metadata": {},
     "output_type": "execute_result"
    }
   ],
   "source": [
    "# Number of companies\n",
    "\n",
    "len(company)"
   ]
  },
  {
   "cell_type": "code",
   "execution_count": 7,
   "id": "b1cab6f0",
   "metadata": {},
   "outputs": [],
   "source": [
    "# Appending features to empty list\n",
    "\n",
    "companyName = []\n",
    "posted = []\n",
    "location = []\n",
    "profile = []\n",
    "stipend = []\n",
    "\n",
    "for i in company:\n",
    "    companyName.append(i.find('h4', class_ = \"heading_6 company_name\").text.strip())\n",
    "    profile.append(i.find('a', class_ = 'view_detail_button').text.strip())\n",
    "    stipend.append(i.find('span', class_ = 'stipend').text.strip())\n",
    "    posted.append(i.find('div', class_ = 'status-container').text.strip())\n",
    "    location.append(i.find('a', class_ = 'location_link view_detail_button').text.strip())\n",
    "    \n",
    "d = {'Company': companyName, 'Job Role': profile, 'Stipend': stipend, 'Location': location, 'Posted': posted}\n",
    "df = pd.DataFrame(d)"
   ]
  },
  {
   "cell_type": "code",
   "execution_count": 8,
   "id": "2bc8e1ab",
   "metadata": {},
   "outputs": [],
   "source": [
    "df.to_csv('internshala_dataset.csv')"
   ]
  }
 ],
 "metadata": {
  "kernelspec": {
   "display_name": "Python 3 (ipykernel)",
   "language": "python",
   "name": "python3"
  },
  "language_info": {
   "codemirror_mode": {
    "name": "ipython",
    "version": 3
   },
   "file_extension": ".py",
   "mimetype": "text/x-python",
   "name": "python",
   "nbconvert_exporter": "python",
   "pygments_lexer": "ipython3",
   "version": "3.8.8"
  }
 },
 "nbformat": 4,
 "nbformat_minor": 5
}
